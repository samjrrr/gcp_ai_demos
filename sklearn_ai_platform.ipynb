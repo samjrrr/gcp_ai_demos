{
 "cells": [
  {
   "cell_type": "markdown",
   "metadata": {},
   "source": [
    "# AI Platform - Scikit-learn Example\n",
    "\n",
    "In this notebook will demonstrate AI Platform with Scikit-learn."
   ]
  },
  {
   "cell_type": "code",
   "execution_count": 1,
   "metadata": {},
   "outputs": [],
   "source": [
    "# Set enviroment variable for authentification\n",
    "import os\n",
    "import time\n",
    "\n",
    "os.environ[\"GOOGLE_APPLICATION_CREDENTIALS\"]=\"credentials.json\""
   ]
  },
  {
   "cell_type": "code",
   "execution_count": 2,
   "metadata": {},
   "outputs": [],
   "source": [
    "import pandas as pd\n",
    "import numpy as np\n",
    "from google.cloud import bigquery\n",
    "from google.oauth2 import service_account\n",
    "from tensorflow import keras\n",
    "from sklearn.model_selection import train_test_split\n",
    "from sklearn.preprocessing import StandardScaler"
   ]
  },
  {
   "cell_type": "markdown",
   "metadata": {},
   "source": [
    "# Sklearn training\n",
    "\n",
    "- Initialise directory for training package.\n",
    "- Write training script\n",
    "- Submit training to AI Platform via GCloud "
   ]
  },
  {
   "cell_type": "code",
   "execution_count": 3,
   "metadata": {},
   "outputs": [
    {
     "name": "stdout",
     "output_type": "stream",
     "text": [
      "mkdir: cannot create directory ‘iris_training’: File exists\n"
     ]
    }
   ],
   "source": [
    "!mkdir iris_training"
   ]
  },
  {
   "cell_type": "code",
   "execution_count": 4,
   "metadata": {},
   "outputs": [],
   "source": [
    "!touch ./iris_training/__init__.py"
   ]
  },
  {
   "cell_type": "code",
   "execution_count": 5,
   "metadata": {},
   "outputs": [
    {
     "name": "stdout",
     "output_type": "stream",
     "text": [
      "__init__.py  train.py\n"
     ]
    }
   ],
   "source": [
    "!ls iris_training"
   ]
  },
  {
   "cell_type": "markdown",
   "metadata": {},
   "source": [
    "# Write training script"
   ]
  },
  {
   "cell_type": "code",
   "execution_count": 6,
   "metadata": {},
   "outputs": [
    {
     "name": "stdout",
     "output_type": "stream",
     "text": [
      "Overwriting ./iris_training/train.py\n"
     ]
    }
   ],
   "source": [
    "%%writefile ./iris_training/train.py\n",
    "\n",
    "# Import modules\n",
    "import datetime\n",
    "import os\n",
    "import subprocess\n",
    "import sys\n",
    "import pickle\n",
    "import pandas as pd\n",
    "from sklearn.ensemble import RandomForestClassifier\n",
    "\n",
    "# Download data\n",
    "BUCKET_NAME = 'gcp_ai_demo'\n",
    "iris_data_filename = 'iris_data.csv'\n",
    "iris_target_filename = 'iris_target.csv'\n",
    "data_dir = 'gs://cloud-samples-data/ml-engine/iris'\n",
    "subprocess.check_call(['gsutil', 'cp', os.path.join(data_dir,\n",
    "                                                    iris_data_filename),\n",
    "                       iris_data_filename], stderr=sys.stdout)\n",
    "subprocess.check_call(['gsutil', 'cp', os.path.join(data_dir,\n",
    "                                                    iris_target_filename),\n",
    "                       iris_target_filename], stderr=sys.stdout)\n",
    "\n",
    "# Load data into Pandas\n",
    "iris_data = pd.read_csv(iris_data_filename).values\n",
    "iris_target = pd.read_csv(iris_target_filename).values\n",
    "iris_target = iris_target.reshape((iris_target.size,))\n",
    "\n",
    "# Train the model\n",
    "classifier = RandomForestClassifier()\n",
    "classifier.fit(iris_data, iris_target)\n",
    "\n",
    "\n",
    "# Save model to disk\n",
    "model_filename = 'model.pkl'\n",
    "pickle.dump(classifier, open(model_filename, 'wb'))\n",
    "\n",
    "\n",
    "# Upload model to Cloud Storage\n",
    "gcs_model_path = os.path.join('gs://', BUCKET_NAME,\n",
    "    datetime.datetime.now().strftime('iris_%Y%m%d_%H%M%S'), model_filename)\n",
    "subprocess.check_call(['gsutil', 'cp', model_filename, gcs_model_path],\n",
    "    stderr=sys.stdout)"
   ]
  },
  {
   "cell_type": "markdown",
   "metadata": {},
   "source": [
    "# Submit job to AI Platform Training"
   ]
  },
  {
   "cell_type": "code",
   "execution_count": 7,
   "metadata": {},
   "outputs": [
    {
     "name": "stdout",
     "output_type": "stream",
     "text": [
      "Job [iris_job_rf_1585658071] submitted successfully.\n",
      "Your job is still active. You may view the status of your job with the command\n",
      "\n",
      "  $ gcloud ai-platform jobs describe iris_job_rf_1585658071\n",
      "\n",
      "or continue streaming the logs with the command\n",
      "\n",
      "  $ gcloud ai-platform jobs stream-logs iris_job_rf_1585658071\n",
      "jobId: iris_job_rf_1585658071\n",
      "state: QUEUED\n"
     ]
    }
   ],
   "source": [
    "BUCKET_NAME = \"gcp_ai_demo\"\n",
    "JOB_NAME = \"iris_job_rf_{}\".format(int(time.time()))\n",
    "\n",
    "! gcloud ai-platform jobs submit training $JOB_NAME \\\n",
    "    --region us-central1 \\\n",
    "    --runtime-version=1.15 \\\n",
    "    --scale-tier BASIC \\\n",
    "    --python-version=3.7 \\\n",
    "    --staging-bucket gs://$BUCKET_NAME \\\n",
    "    --package-path ./iris_training \\\n",
    "    --module-name iris_training.train"
   ]
  },
  {
   "cell_type": "code",
   "execution_count": 8,
   "metadata": {},
   "outputs": [
    {
     "name": "stdout",
     "output_type": "stream",
     "text": [
      "createTime: '2020-03-31T12:34:33Z'\n",
      "etag: NvSDFdxmkrE=\n",
      "jobId: iris_job_rf_1585658071\n",
      "state: PREPARING\n",
      "trainingInput:\n",
      "  packageUris:\n",
      "  - gs://gcp_ai_demo/iris_job_rf_1585658071/c9ef0513981a6c23e7c9bfc978958c27adbfcddbe928991e356475f7ee2fd065/iris_training-0.0.0.tar.gz\n",
      "  pythonModule: iris_training.train\n",
      "  pythonVersion: '3.7'\n",
      "  region: us-central1\n",
      "  runtimeVersion: '1.15'\n",
      "trainingOutput: {}\n",
      "\n",
      "View job in the Cloud Console at:\n",
      "https://console.cloud.google.com/mlengine/jobs/iris_job_rf_1585658071?project=data-sc-activator\n",
      "\n",
      "View logs at:\n",
      "https://console.cloud.google.com/logs?resource=ml.googleapis.com%2Fjob_id%2Firis_job_rf_1585658071&project=data-sc-activator\n"
     ]
    }
   ],
   "source": [
    "! gcloud ai-platform jobs describe $JOB_NAME"
   ]
  },
  {
   "cell_type": "markdown",
   "metadata": {},
   "source": [
    "# Deploy Model via AI Platform Predictions"
   ]
  },
  {
   "cell_type": "code",
   "execution_count": 9,
   "metadata": {},
   "outputs": [],
   "source": [
    "MODEL_NAME = \"scikit_learn_demo_{}\".format(int(time.time()))\n",
    "VERSION_NAME = \"scikit_learn_demo_{}\".format(int(time.time()))"
   ]
  },
  {
   "cell_type": "code",
   "execution_count": 10,
   "metadata": {},
   "outputs": [
    {
     "name": "stdout",
     "output_type": "stream",
     "text": [
      "Created ml engine model [projects/data-sc-activator/models/scikit_learn_demo_1585658099].\n"
     ]
    }
   ],
   "source": [
    "!gcloud ai-platform models create $MODEL_NAME \\\n",
    "    --regions us-central1"
   ]
  },
  {
   "cell_type": "code",
   "execution_count": 11,
   "metadata": {},
   "outputs": [
    {
     "name": "stdout",
     "output_type": "stream",
     "text": [
      "Creating version (this might take a few minutes)......⠹                        ^C\n",
      "Creating version (this might take a few minutes)......aborted by ctrl-c.       \n",
      "\u001b[1;31mERROR:\u001b[0m (gcloud.ai-platform.versions.create) Aborting wait for operation https://ml.googleapis.com/v1/projects/data-sc-activator/operations/create_scikit_learn_demo_1585658099_scikit_learn_demo_1585658099-1585658116419.\n",
      "\n"
     ]
    }
   ],
   "source": [
    "MODEL_DIR = BUCKET_NAME + \"/iris_20200329_091925\"\n",
    "\n",
    "! gcloud ai-platform versions create $VERSION_NAME \\\n",
    "    --model=$MODEL_NAME \\\n",
    "    --framework=scikit-learn \\\n",
    "    --origin=gs://$MODEL_DIR \\\n",
    "    --runtime-version=1.15 \\\n",
    "    --python-version=3.7 \\\n",
    "    --staging-bucket=gs://$BUCKET_NAME"
   ]
  },
  {
   "cell_type": "markdown",
   "metadata": {},
   "source": [
    "# Make Predictions"
   ]
  },
  {
   "cell_type": "code",
   "execution_count": 12,
   "metadata": {},
   "outputs": [
    {
     "name": "stdout",
     "output_type": "stream",
     "text": [
      "Overwriting test_data\n"
     ]
    }
   ],
   "source": [
    "%%writefile test_data\n",
    "[5.1, 3.5, 1.4, 0.2]\n",
    "[4, 3, 1, 0.5]\n",
    "[3, 4.5, 4, 3]"
   ]
  },
  {
   "cell_type": "code",
   "execution_count": 13,
   "metadata": {},
   "outputs": [],
   "source": [
    "MODEL_NAME = \"scikit_learn_rf\"\n",
    "INPUT_DATA_FILE = \"test_data\""
   ]
  },
  {
   "cell_type": "code",
   "execution_count": 14,
   "metadata": {},
   "outputs": [
    {
     "name": "stdout",
     "output_type": "stream",
     "text": [
      "[0, 0, 2]\n"
     ]
    }
   ],
   "source": [
    "! gcloud ai-platform predict \\\n",
    "    --model $MODEL_NAME  \\\n",
    "    --json-instances $INPUT_DATA_FILE"
   ]
  },
  {
   "cell_type": "code",
   "execution_count": null,
   "metadata": {},
   "outputs": [],
   "source": []
  }
 ],
 "metadata": {
  "kernelspec": {
   "display_name": "Python 3",
   "language": "python",
   "name": "python3"
  },
  "language_info": {
   "codemirror_mode": {
    "name": "ipython",
    "version": 3
   },
   "file_extension": ".py",
   "mimetype": "text/x-python",
   "name": "python",
   "nbconvert_exporter": "python",
   "pygments_lexer": "ipython3",
   "version": "3.7.6"
  }
 },
 "nbformat": 4,
 "nbformat_minor": 4
}
